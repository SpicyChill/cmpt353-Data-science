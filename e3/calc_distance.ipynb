{
 "cells": [
  {
   "cell_type": "code",
   "execution_count": 1,
   "metadata": {},
   "outputs": [],
   "source": [
    "from xml.dom import minidom\n",
    "import sys\n",
    "import pandas as pd\n",
    "import numpy as np\n",
    "from math import sqrt,asin,cos,pi\n",
    "from pykalman import KalmanFilter"
   ]
  },
  {
   "cell_type": "code",
   "execution_count": 2,
   "metadata": {},
   "outputs": [],
   "source": [
    "def latt(x):\n",
    "        return x.getAttribute('lat')\n",
    "def lonn(x):\n",
    "        return x.getAttribute('lon')\n",
    "def get_data(file):\n",
    "    d = minidom.parse(file)\n",
    "    data = d.getElementsByTagName('trkpt')\n",
    "    get_latitude = np.vectorize(latt,otypes=[np.float])\n",
    "    get_lontitude = np.vectorize(lonn,otypes=[np.float])\n",
    "    data_frame = pd.DataFrame()\n",
    "    data_frame['lat']=get_latitude(data)\n",
    "    data_frame['lon']=get_lontitude(data)\n",
    "    return data_frame"
   ]
  },
  {
   "cell_type": "code",
   "execution_count": 3,
   "metadata": {},
   "outputs": [],
   "source": [
    "def dist(latitude2,latitude,lontitude2,lontitude):\n",
    "    p = pi/180\n",
    "    lat2 = latitude2\n",
    "    lat = latitude\n",
    "    lon2 = lontitude2\n",
    "    lon = lontitude\n",
    "    a = 0.5 - cos((lat2-lat)*p)/2 + cos(lat*p) * cos(lat2*p) * (1- cos((lon2-lon)*p))/2\n",
    "    return 12742*asin(sqrt(a))\n",
    "def distance(data):\n",
    "    data2= data.copy()\n",
    "    data2 = data2.shift(periods=1,fill_value=None)\n",
    "    data2['lon2']=data['lon']\n",
    "    data2['lat2']=data['lat']\n",
    "    get_dis = np.vectorize(dist,otypes=[np.float])\n",
    "    data2['distance']=get_dis(data2['lat2'],data2['lat'],data2['lon2'],data2['lon'])\n",
    "    new_data = data2['distance']\n",
    "    total_distance = new_data.sum()\n",
    "    return total_distance*1000"
   ]
  },
  {
   "cell_type": "code",
   "execution_count": null,
   "metadata": {},
   "outputs": [],
   "source": []
  },
  {
   "cell_type": "code",
   "execution_count": 4,
   "metadata": {},
   "outputs": [],
   "source": [
    "def smooth(data_e):\n",
    "    initial_state = data_e.iloc[0]\n",
    "    observation_covariance = np.diag([15/1000,15/1000]) ** 2\n",
    "    transition_covariance = np.diag([10/1000,10/1000])**2\n",
    "    transition = np.identity(2)\n",
    "    \n",
    "    kf = KalmanFilter(initial_state_mean = initial_state,\n",
    "                  initial_state_covariance = observation_covariance,\n",
    "                  observation_covariance = observation_covariance, \n",
    "                  transition_covariance = transition_covariance, \n",
    "                  transition_matrices = transition)\n",
    "    new_data, _=kf.smooth(data_e)\n",
    "    new_data = pd.DataFrame(data=new_data, columns=data_e.columns)\n",
    "    return new_data"
   ]
  },
  {
   "cell_type": "code",
   "execution_count": 5,
   "metadata": {},
   "outputs": [
    {
     "name": "stdout",
     "output_type": "stream",
     "text": [
      "Unfiltered distance: 3186.44\n",
      "Filtered distance: 1430.28\n"
     ]
    }
   ],
   "source": [
    "def output_gpx(points, output_filename):\n",
    "    \"\"\"\n",
    "    Output a GPX file with latitude and longitude from the points DataFrame.\n",
    "    \"\"\"\n",
    "    from xml.dom.minidom import getDOMImplementation\n",
    "    def append_trkpt(pt, trkseg, doc):\n",
    "        trkpt = doc.createElement('trkpt')\n",
    "        trkpt.setAttribute('lat', '%.8f' % (pt['lat']))\n",
    "        trkpt.setAttribute('lon', '%.8f' % (pt['lon']))\n",
    "        trkseg.appendChild(trkpt)\n",
    "    \n",
    "    doc = getDOMImplementation().createDocument(None, 'gpx', None)\n",
    "    trk = doc.createElement('trk')\n",
    "    doc.documentElement.appendChild(trk)\n",
    "    trkseg = doc.createElement('trkseg')\n",
    "    trk.appendChild(trkseg)\n",
    "    \n",
    "    points.apply(append_trkpt, axis=1, trkseg=trkseg, doc=doc)\n",
    "    \n",
    "    with open(output_filename, 'w') as fh:\n",
    "        doc.writexml(fh, indent=' ')\n",
    "\n",
    "\n",
    "def main():\n",
    "    #file = 'walk1.gpx'\n",
    "    file = sys.argv[1]\n",
    "    points = get_data(file)\n",
    "   \n",
    "    print('Unfiltered distance: %0.2f' % (distance(points),))\n",
    "    \n",
    "    smoothed_points = smooth(points)\n",
    "    print('Filtered distance: %0.2f' % (distance(smoothed_points),))\n",
    "    output_gpx(smoothed_points, 'out.gpx')\n",
    "\n",
    "\n",
    "if __name__ == '__main__':\n",
    "    main()"
   ]
  },
  {
   "cell_type": "code",
   "execution_count": null,
   "metadata": {},
   "outputs": [],
   "source": []
  },
  {
   "cell_type": "code",
   "execution_count": null,
   "metadata": {},
   "outputs": [],
   "source": []
  }
 ],
 "metadata": {
  "kernelspec": {
   "display_name": "Python 3",
   "language": "python",
   "name": "python3"
  },
  "language_info": {
   "codemirror_mode": {
    "name": "ipython",
    "version": 3
   },
   "file_extension": ".py",
   "mimetype": "text/x-python",
   "name": "python",
   "nbconvert_exporter": "python",
   "pygments_lexer": "ipython3",
   "version": "3.7.3"
  }
 },
 "nbformat": 4,
 "nbformat_minor": 2
}
